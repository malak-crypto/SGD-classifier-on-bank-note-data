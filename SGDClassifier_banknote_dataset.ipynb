{
 "cells": [
  {
   "cell_type": "code",
   "execution_count": 30,
   "id": "9d2fe17c",
   "metadata": {},
   "outputs": [],
   "source": [
    "import pandas as pd\n",
    "from sklearn.linear_model import SGDClassifier\n",
    "from sklearn.model_selection import train_test_split\n",
    "from sklearn.metrics import classification_report "
   ]
  },
  {
   "cell_type": "code",
   "execution_count": 13,
   "id": "e9964397",
   "metadata": {},
   "outputs": [],
   "source": [
    "#reading banknote data set , stating there is no header \n",
    "#can download the dataset from the given link\n",
    "#(https://archive.ics.uci.edu/ml/datasets/banknote+authentication#)\n",
    "data_set = pd.read_csv(\"data_banknote_authentication.txt\",header = None)"
   ]
  },
  {
   "cell_type": "code",
   "execution_count": 14,
   "id": "73bdeee2",
   "metadata": {},
   "outputs": [
    {
     "data": {
      "text/html": [
       "<div>\n",
       "<style scoped>\n",
       "    .dataframe tbody tr th:only-of-type {\n",
       "        vertical-align: middle;\n",
       "    }\n",
       "\n",
       "    .dataframe tbody tr th {\n",
       "        vertical-align: top;\n",
       "    }\n",
       "\n",
       "    .dataframe thead th {\n",
       "        text-align: right;\n",
       "    }\n",
       "</style>\n",
       "<table border=\"1\" class=\"dataframe\">\n",
       "  <thead>\n",
       "    <tr style=\"text-align: right;\">\n",
       "      <th></th>\n",
       "      <th>0</th>\n",
       "      <th>1</th>\n",
       "      <th>2</th>\n",
       "      <th>3</th>\n",
       "      <th>4</th>\n",
       "    </tr>\n",
       "  </thead>\n",
       "  <tbody>\n",
       "    <tr>\n",
       "      <th>0</th>\n",
       "      <td>3.62160</td>\n",
       "      <td>8.6661</td>\n",
       "      <td>-2.8073</td>\n",
       "      <td>-0.44699</td>\n",
       "      <td>0</td>\n",
       "    </tr>\n",
       "    <tr>\n",
       "      <th>1</th>\n",
       "      <td>4.54590</td>\n",
       "      <td>8.1674</td>\n",
       "      <td>-2.4586</td>\n",
       "      <td>-1.46210</td>\n",
       "      <td>0</td>\n",
       "    </tr>\n",
       "    <tr>\n",
       "      <th>2</th>\n",
       "      <td>3.86600</td>\n",
       "      <td>-2.6383</td>\n",
       "      <td>1.9242</td>\n",
       "      <td>0.10645</td>\n",
       "      <td>0</td>\n",
       "    </tr>\n",
       "    <tr>\n",
       "      <th>3</th>\n",
       "      <td>3.45660</td>\n",
       "      <td>9.5228</td>\n",
       "      <td>-4.0112</td>\n",
       "      <td>-3.59440</td>\n",
       "      <td>0</td>\n",
       "    </tr>\n",
       "    <tr>\n",
       "      <th>4</th>\n",
       "      <td>0.32924</td>\n",
       "      <td>-4.4552</td>\n",
       "      <td>4.5718</td>\n",
       "      <td>-0.98880</td>\n",
       "      <td>0</td>\n",
       "    </tr>\n",
       "  </tbody>\n",
       "</table>\n",
       "</div>"
      ],
      "text/plain": [
       "         0       1       2        3  4\n",
       "0  3.62160  8.6661 -2.8073 -0.44699  0\n",
       "1  4.54590  8.1674 -2.4586 -1.46210  0\n",
       "2  3.86600 -2.6383  1.9242  0.10645  0\n",
       "3  3.45660  9.5228 -4.0112 -3.59440  0\n",
       "4  0.32924 -4.4552  4.5718 -0.98880  0"
      ]
     },
     "execution_count": 14,
     "metadata": {},
     "output_type": "execute_result"
    }
   ],
   "source": [
    "data_set.head() #to see first 5 rows "
   ]
  },
  {
   "cell_type": "code",
   "execution_count": 15,
   "id": "469ddd46",
   "metadata": {},
   "outputs": [],
   "source": [
    "#renaming the columns of this data\n",
    "data_set.columns = ['variance of Wavelet Transformed image', 'skewness of Wavelet Transformed image', 'curtosis of Wavelet Transformed image', 'entropy of image', 'class']"
   ]
  },
  {
   "cell_type": "code",
   "execution_count": 16,
   "id": "2ce518d0",
   "metadata": {},
   "outputs": [
    {
     "data": {
      "text/html": [
       "<div>\n",
       "<style scoped>\n",
       "    .dataframe tbody tr th:only-of-type {\n",
       "        vertical-align: middle;\n",
       "    }\n",
       "\n",
       "    .dataframe tbody tr th {\n",
       "        vertical-align: top;\n",
       "    }\n",
       "\n",
       "    .dataframe thead th {\n",
       "        text-align: right;\n",
       "    }\n",
       "</style>\n",
       "<table border=\"1\" class=\"dataframe\">\n",
       "  <thead>\n",
       "    <tr style=\"text-align: right;\">\n",
       "      <th></th>\n",
       "      <th>variance of Wavelet Transformed image</th>\n",
       "      <th>skewness of Wavelet Transformed image</th>\n",
       "      <th>curtosis of Wavelet Transformed image</th>\n",
       "      <th>entropy of image</th>\n",
       "      <th>class</th>\n",
       "    </tr>\n",
       "  </thead>\n",
       "  <tbody>\n",
       "    <tr>\n",
       "      <th>0</th>\n",
       "      <td>3.62160</td>\n",
       "      <td>8.6661</td>\n",
       "      <td>-2.8073</td>\n",
       "      <td>-0.44699</td>\n",
       "      <td>0</td>\n",
       "    </tr>\n",
       "    <tr>\n",
       "      <th>1</th>\n",
       "      <td>4.54590</td>\n",
       "      <td>8.1674</td>\n",
       "      <td>-2.4586</td>\n",
       "      <td>-1.46210</td>\n",
       "      <td>0</td>\n",
       "    </tr>\n",
       "    <tr>\n",
       "      <th>2</th>\n",
       "      <td>3.86600</td>\n",
       "      <td>-2.6383</td>\n",
       "      <td>1.9242</td>\n",
       "      <td>0.10645</td>\n",
       "      <td>0</td>\n",
       "    </tr>\n",
       "    <tr>\n",
       "      <th>3</th>\n",
       "      <td>3.45660</td>\n",
       "      <td>9.5228</td>\n",
       "      <td>-4.0112</td>\n",
       "      <td>-3.59440</td>\n",
       "      <td>0</td>\n",
       "    </tr>\n",
       "    <tr>\n",
       "      <th>4</th>\n",
       "      <td>0.32924</td>\n",
       "      <td>-4.4552</td>\n",
       "      <td>4.5718</td>\n",
       "      <td>-0.98880</td>\n",
       "      <td>0</td>\n",
       "    </tr>\n",
       "  </tbody>\n",
       "</table>\n",
       "</div>"
      ],
      "text/plain": [
       "   variance of Wavelet Transformed image  \\\n",
       "0                                3.62160   \n",
       "1                                4.54590   \n",
       "2                                3.86600   \n",
       "3                                3.45660   \n",
       "4                                0.32924   \n",
       "\n",
       "   skewness of Wavelet Transformed image  \\\n",
       "0                                 8.6661   \n",
       "1                                 8.1674   \n",
       "2                                -2.6383   \n",
       "3                                 9.5228   \n",
       "4                                -4.4552   \n",
       "\n",
       "   curtosis of Wavelet Transformed image  entropy of image  class  \n",
       "0                                -2.8073          -0.44699      0  \n",
       "1                                -2.4586          -1.46210      0  \n",
       "2                                 1.9242           0.10645      0  \n",
       "3                                -4.0112          -3.59440      0  \n",
       "4                                 4.5718          -0.98880      0  "
      ]
     },
     "execution_count": 16,
     "metadata": {},
     "output_type": "execute_result"
    }
   ],
   "source": [
    "data_set.head()"
   ]
  },
  {
   "cell_type": "code",
   "execution_count": 17,
   "id": "34b129e7",
   "metadata": {},
   "outputs": [],
   "source": [
    "#first 4 columns input \n",
    "inputs = data_set.iloc[:1372,[0,1,2,3]].values\n",
    "#last column output \n",
    "outputs = data_set.iloc[:1372,[4]].values"
   ]
  },
  {
   "cell_type": "code",
   "execution_count": 18,
   "id": "3f1482ac",
   "metadata": {},
   "outputs": [
    {
     "data": {
      "text/plain": [
       "array([[ 3.6216 ,  8.6661 , -2.8073 , -0.44699],\n",
       "       [ 4.5459 ,  8.1674 , -2.4586 , -1.4621 ],\n",
       "       [ 3.866  , -2.6383 ,  1.9242 ,  0.10645],\n",
       "       [ 3.4566 ,  9.5228 , -4.0112 , -3.5944 ],\n",
       "       [ 0.32924, -4.4552 ,  4.5718 , -0.9888 ]])"
      ]
     },
     "execution_count": 18,
     "metadata": {},
     "output_type": "execute_result"
    }
   ],
   "source": [
    "inputs[:5] #first 5 values in input array"
   ]
  },
  {
   "cell_type": "code",
   "execution_count": 19,
   "id": "9fad3971",
   "metadata": {},
   "outputs": [
    {
     "data": {
      "text/plain": [
       "array([[0],\n",
       "       [0],\n",
       "       [0],\n",
       "       [0],\n",
       "       [0]], dtype=int64)"
      ]
     },
     "execution_count": 19,
     "metadata": {},
     "output_type": "execute_result"
    }
   ],
   "source": [
    "outputs[:5] #first 5 values in output array\n"
   ]
  },
  {
   "cell_type": "code",
   "execution_count": 24,
   "id": "71523b22",
   "metadata": {
    "scrolled": true
   },
   "outputs": [],
   "source": [
    "X_train, X_test, y_train, y_test = train_test_split(inputs, outputs, test_size = 0.2, random_state = 0)\n",
    "#random state to get same random data for each run \n",
    "#test size to split the data into training and testing "
   ]
  },
  {
   "cell_type": "code",
   "execution_count": 25,
   "id": "689b1200",
   "metadata": {},
   "outputs": [
    {
     "data": {
      "text/plain": [
       "array([[-1.2943 ,  2.6735 , -0.84085, -2.0323 ],\n",
       "       [-0.40857,  3.0977 , -2.9607 , -2.6892 ],\n",
       "       [-1.5228 , -6.4789 ,  5.7568 ,  0.87325],\n",
       "       [-0.278  ,  8.1881 , -3.1338 , -2.5276 ],\n",
       "       [ 3.7022 ,  6.9942 , -1.8511 , -0.12889]])"
      ]
     },
     "execution_count": 25,
     "metadata": {},
     "output_type": "execute_result"
    }
   ],
   "source": [
    "X_train[:5]"
   ]
  },
  {
   "cell_type": "code",
   "execution_count": 26,
   "id": "569a26a5",
   "metadata": {},
   "outputs": [
    {
     "data": {
      "text/plain": [
       "array([[1],\n",
       "       [1],\n",
       "       [1],\n",
       "       [0],\n",
       "       [0]], dtype=int64)"
      ]
     },
     "execution_count": 26,
     "metadata": {},
     "output_type": "execute_result"
    }
   ],
   "source": [
    "y_train[:5]"
   ]
  },
  {
   "cell_type": "code",
   "execution_count": 27,
   "id": "a2b74998",
   "metadata": {},
   "outputs": [
    {
     "data": {
      "text/plain": [
       "array([1, 1, 1, ..., 1, 0, 0], dtype=int64)"
      ]
     },
     "execution_count": 27,
     "metadata": {},
     "output_type": "execute_result"
    }
   ],
   "source": [
    "y_train = y_train.flatten() #turning 2d array into 1d array \n",
    "y_train"
   ]
  },
  {
   "cell_type": "code",
   "execution_count": 31,
   "id": "a31ae34e",
   "metadata": {},
   "outputs": [],
   "source": [
    "SGD_classifier = SGDClassifier()\n",
    "\n",
    "#.fit to train data \n",
    "SGD_classifier_clf = SGD_classifier.fit(X_train, y_train)\n",
    "\n",
    "#predicting the test data \n",
    "y_pred = SGD_classifier_clf.predict(X_test)"
   ]
  },
  {
   "cell_type": "code",
   "execution_count": 32,
   "id": "40fa49d9",
   "metadata": {},
   "outputs": [
    {
     "name": "stdout",
     "output_type": "stream",
     "text": [
      "              precision    recall  f1-score   support\n",
      "\n",
      "           0       0.99      0.98      0.99       157\n",
      "           1       0.97      0.99      0.98       118\n",
      "\n",
      "    accuracy                           0.99       275\n",
      "   macro avg       0.98      0.99      0.99       275\n",
      "weighted avg       0.99      0.99      0.99       275\n",
      "\n"
     ]
    }
   ],
   "source": [
    "print(classification_report(y_test, y_pred)) #accuracy 99%"
   ]
  },
  {
   "cell_type": "code",
   "execution_count": null,
   "id": "c1835a11",
   "metadata": {},
   "outputs": [],
   "source": []
  }
 ],
 "metadata": {
  "kernelspec": {
   "display_name": "Python 3.7.8 64-bit",
   "language": "python",
   "name": "python3"
  },
  "language_info": {
   "codemirror_mode": {
    "name": "ipython",
    "version": 3
   },
   "file_extension": ".py",
   "mimetype": "text/x-python",
   "name": "python",
   "nbconvert_exporter": "python",
   "pygments_lexer": "ipython3",
   "version": "3.7.8"
  },
  "vscode": {
   "interpreter": {
    "hash": "c6aeca87e53583627b8b79e4f4da41d10e1acf8a2564923b7f23db1af83b45f2"
   }
  }
 },
 "nbformat": 4,
 "nbformat_minor": 5
}
